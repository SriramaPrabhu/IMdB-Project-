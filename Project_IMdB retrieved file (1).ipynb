{
 "cells": [
  {
   "cell_type": "markdown",
   "id": "afeb8782",
   "metadata": {},
   "source": [
    "## Trying to understand the relation between the Budget and the Technical specs of a Movie.\n",
    "### Classification of a budgets of a Movie in Hollywood. \n",
    "#### According to Studio Binder, (1 Million USD = 8.2 Cr INR)\n",
    "#### Below 5 million USD can be characterized as Low-Budget (40 Cr INR)\n",
    "#### Between 5 to 50 million USD - Mid-Budget (40 Cr - 400 Cr INR)\n",
    "#### Greater than 50 million USD -High Budget (400 Crore INR)\n",
    "#### Avatar 2 is made with budget of 460M USD which is close to 3800 Crore INR \n",
    "\n",
    "### Movies that released from 1900 to 2023 april & more than IMDB 7 Rating & with atleast 1000 user ratings are considered for this work. The number of titles which satisfied this criteria are 10480"
   ]
  },
  {
   "cell_type": "code",
   "execution_count": null,
   "id": "41ba33d1",
   "metadata": {},
   "outputs": [],
   "source": []
  },
  {
   "cell_type": "code",
   "execution_count": null,
   "id": "54179d75",
   "metadata": {},
   "outputs": [],
   "source": [
    "import requests\n",
    "from bs4 import BeautifulSoup\n",
    "import pandas as pd"
   ]
  },
  {
   "cell_type": "code",
   "execution_count": null,
   "id": "8a252cb5",
   "metadata": {},
   "outputs": [],
   "source": []
  },
  {
   "cell_type": "code",
   "execution_count": null,
   "id": "3abf5490",
   "metadata": {},
   "outputs": [],
   "source": [
    "baseurl='https://www.imdb.com/search/title/?title_type=feature&release_date=1900-01-01,2023-04-01&user_rating=7.0,10.0&num_votes=1000,&has=technical&adult=include&view=simple&sort=num_votes,desc&count=250'\n",
    "urllist=[baseurl]\n",
    "num=251\n",
    "for i in range(1,40):\n",
    "    urllist.append(baseurl+'&start='+str(num)+'&ref_=adv_nxt')\n",
    "    num=num+250\n",
    "for url in urllist:\n",
    "    print(url)\n",
    "url42='https://www.imdb.com/search/title/?title_type=feature&release_date=1900-01-01,2023-04-01&user_rating=7.0,10.0&num_votes=1000,&has=technical&adult=include&view=simple&sort=num_votes,desc&count=250&after=WzExNTIsNzMyOTcsInR0MDEwMjk5MyIsMTAwMDFd&ref_=adv_nxt'\n",
    "url43='https://www.imdb.com/search/title/?title_type=feature&release_date=1900-01-01,2023-04-01&user_rating=7.0,10.0&num_votes=1000,&has=technical&adult=include&view=simple&sort=num_votes,desc&count=250&after=WzEwNzEsMTY1OTc3LCJ0dDEyNzIwMTEiLDEwMjUxXQ%3D%3D&ref_=adv_nxt'\n",
    "urllist.extend([url42,url43])\n",
    "\n",
    "FullDetails=[]\n",
    "for link in urllist:\n",
    "    Listings=requests.get(link)\n",
    "    soup=BeautifulSoup(Listings.text,\"lxml\")\n",
    "    print(link)\n",
    "    Movies=soup.find_all('div','lister-item mode-simple')\n",
    "    \n",
    "    \n",
    "#     Details=[]\n",
    "    for movie in Movies:\n",
    "        print(movie)\n",
    "        d= {}\n",
    "        Title=movie.find('div','col-title')\n",
    "        d['Title']=Title.a.text\n",
    "\n",
    "        MovieYear=movie.find('span','lister-item-year text-muted unbold')\n",
    "        MovieYear=MovieYear.text.replace('(',\"\")\n",
    "        MovieYear=MovieYear.replace(')',\"\")\n",
    "        d['MovieYear']=MovieYear\n",
    "          \n",
    "        MovieLink=('https://www.imdb.com'+movie.a['href'])\n",
    "        d['MovieLink']=MovieLink\n",
    "\n",
    "          \n",
    "        IMdBRating=movie.find('div','col-imdb-rating','title')\n",
    "        IMdBRating=IMdBRating.text.strip()\n",
    "        d['IMdBRating']=IMdBRating\n",
    "\n",
    "        NumberofVotes=movie.find('div','col-imdb-rating','title')\n",
    "        NumberofVotes=NumberofVotes.strong['title'].split('on ')[1].replace(' votes',\"\").replace(',',\"\")\n",
    "        d['NumberofVotes']=NumberofVotes \n",
    "        FullDetails.append(d)    \n",
    "\n",
    "#         Details.append([Title,MovieYear,IMdBRating,NumberofVotes,MovieLink])\n"
   ]
  },
  {
   "cell_type": "code",
   "execution_count": null,
   "id": "7bfa3815",
   "metadata": {},
   "outputs": [],
   "source": [
    "pd.DataFrame(FullDetails).to_csv('IMdB data project.csv')"
   ]
  }
 ],
 "metadata": {
  "kernelspec": {
   "display_name": "Python 3 (ipykernel)",
   "language": "python",
   "name": "python3"
  },
  "language_info": {
   "codemirror_mode": {
    "name": "ipython",
    "version": 3
   },
   "file_extension": ".py",
   "mimetype": "text/x-python",
   "name": "python",
   "nbconvert_exporter": "python",
   "pygments_lexer": "ipython3",
   "version": "3.9.13"
  }
 },
 "nbformat": 4,
 "nbformat_minor": 5
}
